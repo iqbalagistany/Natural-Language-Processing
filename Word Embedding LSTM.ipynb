{
  "nbformat": 4,
  "nbformat_minor": 0,
  "metadata": {
    "colab": {
      "name": "Hands-on_NLP 05&06.ipynb",
      "provenance": [],
      "collapsed_sections": []
    },
    "kernelspec": {
      "name": "python3",
      "display_name": "Python 3"
    },
    "language_info": {
      "name": "python"
    }
  },
  "cells": [
    {
      "cell_type": "code",
      "execution_count": null,
      "metadata": {
        "id": "RiYvLX_q-dIU"
      },
      "outputs": [],
      "source": [
        "import pandas as pd\n",
        "import numpy as np\n",
        "import matplotlib.pyplot as plt\n",
        "\n",
        "import pickle\n",
        "\n",
        "%matplotlib inline"
      ]
    },
    {
      "cell_type": "code",
      "source": [
        "!wget https://raw.githubusercontent.com/ksnugroho/klasifikasi-spam-sms/master/data/dataset_sms_spam_v1.csv"
      ],
      "metadata": {
        "id": "LsEcIgEJ_Wz7",
        "colab": {
          "base_uri": "https://localhost:8080/"
        },
        "outputId": "c24db23e-a58f-4e9b-e074-919483435564"
      },
      "execution_count": null,
      "outputs": [
        {
          "output_type": "stream",
          "name": "stdout",
          "text": [
            "--2022-04-06 08:47:37--  https://raw.githubusercontent.com/ksnugroho/klasifikasi-spam-sms/master/data/dataset_sms_spam_v1.csv\n",
            "Resolving raw.githubusercontent.com (raw.githubusercontent.com)... 185.199.108.133, 185.199.109.133, 185.199.110.133, ...\n",
            "Connecting to raw.githubusercontent.com (raw.githubusercontent.com)|185.199.108.133|:443... connected.\n",
            "HTTP request sent, awaiting response... 200 OK\n",
            "Length: 128896 (126K) [text/plain]\n",
            "Saving to: ‘dataset_sms_spam_v1.csv’\n",
            "\n",
            "dataset_sms_spam_v1 100%[===================>] 125.88K  --.-KB/s    in 0.01s   \n",
            "\n",
            "2022-04-06 08:47:37 (9.55 MB/s) - ‘dataset_sms_spam_v1.csv’ saved [128896/128896]\n",
            "\n"
          ]
        }
      ]
    },
    {
      "cell_type": "code",
      "source": [
        "data = pd.read_csv('dataset_sms_spam_v1.csv')\n",
        "data.head()"
      ],
      "metadata": {
        "id": "NO-8S7fY_ZJ3",
        "colab": {
          "base_uri": "https://localhost:8080/",
          "height": 206
        },
        "outputId": "2e8997a1-a764-4073-8aa8-50e3d6223a28"
      },
      "execution_count": null,
      "outputs": [
        {
          "output_type": "execute_result",
          "data": {
            "text/plain": [
              "                                                teks  label\n",
              "0  [PROMO] Beli paket Flash mulai 1GB di MY TELKO...      2\n",
              "1  2.5 GB/30 hari hanya Rp 35 Ribu Spesial buat A...      2\n",
              "2  2016-07-08 11:47:11.Plg Yth, sisa kuota Flash ...      2\n",
              "3  2016-08-07 11:29:47.Plg Yth, sisa kuota Flash ...      2\n",
              "4  4.5GB/30 hari hanya Rp 55 Ribu Spesial buat an...      2"
            ],
            "text/html": [
              "\n",
              "  <div id=\"df-09356846-ab9b-42e4-9cd0-1b017a5f15e8\">\n",
              "    <div class=\"colab-df-container\">\n",
              "      <div>\n",
              "<style scoped>\n",
              "    .dataframe tbody tr th:only-of-type {\n",
              "        vertical-align: middle;\n",
              "    }\n",
              "\n",
              "    .dataframe tbody tr th {\n",
              "        vertical-align: top;\n",
              "    }\n",
              "\n",
              "    .dataframe thead th {\n",
              "        text-align: right;\n",
              "    }\n",
              "</style>\n",
              "<table border=\"1\" class=\"dataframe\">\n",
              "  <thead>\n",
              "    <tr style=\"text-align: right;\">\n",
              "      <th></th>\n",
              "      <th>teks</th>\n",
              "      <th>label</th>\n",
              "    </tr>\n",
              "  </thead>\n",
              "  <tbody>\n",
              "    <tr>\n",
              "      <th>0</th>\n",
              "      <td>[PROMO] Beli paket Flash mulai 1GB di MY TELKO...</td>\n",
              "      <td>2</td>\n",
              "    </tr>\n",
              "    <tr>\n",
              "      <th>1</th>\n",
              "      <td>2.5 GB/30 hari hanya Rp 35 Ribu Spesial buat A...</td>\n",
              "      <td>2</td>\n",
              "    </tr>\n",
              "    <tr>\n",
              "      <th>2</th>\n",
              "      <td>2016-07-08 11:47:11.Plg Yth, sisa kuota Flash ...</td>\n",
              "      <td>2</td>\n",
              "    </tr>\n",
              "    <tr>\n",
              "      <th>3</th>\n",
              "      <td>2016-08-07 11:29:47.Plg Yth, sisa kuota Flash ...</td>\n",
              "      <td>2</td>\n",
              "    </tr>\n",
              "    <tr>\n",
              "      <th>4</th>\n",
              "      <td>4.5GB/30 hari hanya Rp 55 Ribu Spesial buat an...</td>\n",
              "      <td>2</td>\n",
              "    </tr>\n",
              "  </tbody>\n",
              "</table>\n",
              "</div>\n",
              "      <button class=\"colab-df-convert\" onclick=\"convertToInteractive('df-09356846-ab9b-42e4-9cd0-1b017a5f15e8')\"\n",
              "              title=\"Convert this dataframe to an interactive table.\"\n",
              "              style=\"display:none;\">\n",
              "        \n",
              "  <svg xmlns=\"http://www.w3.org/2000/svg\" height=\"24px\"viewBox=\"0 0 24 24\"\n",
              "       width=\"24px\">\n",
              "    <path d=\"M0 0h24v24H0V0z\" fill=\"none\"/>\n",
              "    <path d=\"M18.56 5.44l.94 2.06.94-2.06 2.06-.94-2.06-.94-.94-2.06-.94 2.06-2.06.94zm-11 1L8.5 8.5l.94-2.06 2.06-.94-2.06-.94L8.5 2.5l-.94 2.06-2.06.94zm10 10l.94 2.06.94-2.06 2.06-.94-2.06-.94-.94-2.06-.94 2.06-2.06.94z\"/><path d=\"M17.41 7.96l-1.37-1.37c-.4-.4-.92-.59-1.43-.59-.52 0-1.04.2-1.43.59L10.3 9.45l-7.72 7.72c-.78.78-.78 2.05 0 2.83L4 21.41c.39.39.9.59 1.41.59.51 0 1.02-.2 1.41-.59l7.78-7.78 2.81-2.81c.8-.78.8-2.07 0-2.86zM5.41 20L4 18.59l7.72-7.72 1.47 1.35L5.41 20z\"/>\n",
              "  </svg>\n",
              "      </button>\n",
              "      \n",
              "  <style>\n",
              "    .colab-df-container {\n",
              "      display:flex;\n",
              "      flex-wrap:wrap;\n",
              "      gap: 12px;\n",
              "    }\n",
              "\n",
              "    .colab-df-convert {\n",
              "      background-color: #E8F0FE;\n",
              "      border: none;\n",
              "      border-radius: 50%;\n",
              "      cursor: pointer;\n",
              "      display: none;\n",
              "      fill: #1967D2;\n",
              "      height: 32px;\n",
              "      padding: 0 0 0 0;\n",
              "      width: 32px;\n",
              "    }\n",
              "\n",
              "    .colab-df-convert:hover {\n",
              "      background-color: #E2EBFA;\n",
              "      box-shadow: 0px 1px 2px rgba(60, 64, 67, 0.3), 0px 1px 3px 1px rgba(60, 64, 67, 0.15);\n",
              "      fill: #174EA6;\n",
              "    }\n",
              "\n",
              "    [theme=dark] .colab-df-convert {\n",
              "      background-color: #3B4455;\n",
              "      fill: #D2E3FC;\n",
              "    }\n",
              "\n",
              "    [theme=dark] .colab-df-convert:hover {\n",
              "      background-color: #434B5C;\n",
              "      box-shadow: 0px 1px 3px 1px rgba(0, 0, 0, 0.15);\n",
              "      filter: drop-shadow(0px 1px 2px rgba(0, 0, 0, 0.3));\n",
              "      fill: #FFFFFF;\n",
              "    }\n",
              "  </style>\n",
              "\n",
              "      <script>\n",
              "        const buttonEl =\n",
              "          document.querySelector('#df-09356846-ab9b-42e4-9cd0-1b017a5f15e8 button.colab-df-convert');\n",
              "        buttonEl.style.display =\n",
              "          google.colab.kernel.accessAllowed ? 'block' : 'none';\n",
              "\n",
              "        async function convertToInteractive(key) {\n",
              "          const element = document.querySelector('#df-09356846-ab9b-42e4-9cd0-1b017a5f15e8');\n",
              "          const dataTable =\n",
              "            await google.colab.kernel.invokeFunction('convertToInteractive',\n",
              "                                                     [key], {});\n",
              "          if (!dataTable) return;\n",
              "\n",
              "          const docLinkHtml = 'Like what you see? Visit the ' +\n",
              "            '<a target=\"_blank\" href=https://colab.research.google.com/notebooks/data_table.ipynb>data table notebook</a>'\n",
              "            + ' to learn more about interactive tables.';\n",
              "          element.innerHTML = '';\n",
              "          dataTable['output_type'] = 'display_data';\n",
              "          await google.colab.output.renderOutput(dataTable, element);\n",
              "          const docLink = document.createElement('div');\n",
              "          docLink.innerHTML = docLinkHtml;\n",
              "          element.appendChild(docLink);\n",
              "        }\n",
              "      </script>\n",
              "    </div>\n",
              "  </div>\n",
              "  "
            ]
          },
          "metadata": {},
          "execution_count": 3
        }
      ]
    },
    {
      "cell_type": "markdown",
      "source": [
        "# Text Preprocessing"
      ],
      "metadata": {
        "id": "opWIbw5X_fC3"
      }
    },
    {
      "cell_type": "code",
      "source": [
        "'''\n",
        "Disini, kita tidak banyak melakukan preprocessing karena kita tidak ingin mengubah makna dari suatu kata pada kalimat\n",
        "'''\n",
        "\n",
        "import re\n",
        "\n",
        "def text_preprocessing(text):\n",
        "  text = text.lower()                               # Mengubah teks menjadi lower case\n",
        "  text = re.sub(r'https?://\\S+|www\\.\\S+', '', text) # Menghapus URL\n",
        "  text = re.sub(r'[-+]?[0-9]+', '', text)           # Menghapus angka\n",
        "  text = re.sub(r'[^\\w\\s]','', text)                # Menghapus karakter tanda baca\n",
        "  text = text.strip()                               # Menghapus whitespaces\n",
        "  return text"
      ],
      "metadata": {
        "id": "VYhrutb__iMV"
      },
      "execution_count": null,
      "outputs": []
    },
    {
      "cell_type": "code",
      "source": [
        "%time data['clean_teks'] = data['teks'].apply(text_preprocessing)"
      ],
      "metadata": {
        "id": "Q7-2Jzv1_gWm",
        "colab": {
          "base_uri": "https://localhost:8080/"
        },
        "outputId": "61f4d547-1bbd-41ca-e58a-d893a9d01307"
      },
      "execution_count": null,
      "outputs": [
        {
          "output_type": "stream",
          "name": "stdout",
          "text": [
            "CPU times: user 23.3 ms, sys: 59 µs, total: 23.4 ms\n",
            "Wall time: 26.9 ms\n"
          ]
        }
      ]
    },
    {
      "cell_type": "code",
      "source": [
        "data.sample(5)"
      ],
      "metadata": {
        "id": "fiF4kndIGySJ",
        "colab": {
          "base_uri": "https://localhost:8080/",
          "height": 206
        },
        "outputId": "b3468e22-8fd2-40b3-dfe9-85182cf3e96a"
      },
      "execution_count": null,
      "outputs": [
        {
          "output_type": "execute_result",
          "data": {
            "text/plain": [
              "                                                  teks  label  \\\n",
              "483  Selamat! No Anda Terpilih M-dptkan kejutan HAD...      1   \n",
              "73   Gunakan GrabCar atau GrabTaxi & dapatkan disko...      2   \n",
              "387  NASIB:Berbagi, berbakti Rutinkan 2 hal ini Mak...      1   \n",
              "448  Pnjaman mudah tnpa jaminan. proses sangat cepa...      1   \n",
              "43   Buruan Download & Registrasi myCare di http://...      2   \n",
              "\n",
              "                                            clean_teks  \n",
              "483  selamat no anda terpilih mdptkan kejutan hadia...  \n",
              "73   gunakan grabcar atau grabtaxi  dapatkan diskon...  \n",
              "387  nasibberbagi berbakti rutinkan  hal ini maka r...  \n",
              "448  pnjaman mudah tnpa jaminan proses sangat cepat...  \n",
              "43   buruan download  registrasi mycare di  dan dap...  "
            ],
            "text/html": [
              "\n",
              "  <div id=\"df-9e175d6d-9459-4f2e-bc0b-03e8411e9350\">\n",
              "    <div class=\"colab-df-container\">\n",
              "      <div>\n",
              "<style scoped>\n",
              "    .dataframe tbody tr th:only-of-type {\n",
              "        vertical-align: middle;\n",
              "    }\n",
              "\n",
              "    .dataframe tbody tr th {\n",
              "        vertical-align: top;\n",
              "    }\n",
              "\n",
              "    .dataframe thead th {\n",
              "        text-align: right;\n",
              "    }\n",
              "</style>\n",
              "<table border=\"1\" class=\"dataframe\">\n",
              "  <thead>\n",
              "    <tr style=\"text-align: right;\">\n",
              "      <th></th>\n",
              "      <th>teks</th>\n",
              "      <th>label</th>\n",
              "      <th>clean_teks</th>\n",
              "    </tr>\n",
              "  </thead>\n",
              "  <tbody>\n",
              "    <tr>\n",
              "      <th>483</th>\n",
              "      <td>Selamat! No Anda Terpilih M-dptkan kejutan HAD...</td>\n",
              "      <td>1</td>\n",
              "      <td>selamat no anda terpilih mdptkan kejutan hadia...</td>\n",
              "    </tr>\n",
              "    <tr>\n",
              "      <th>73</th>\n",
              "      <td>Gunakan GrabCar atau GrabTaxi &amp; dapatkan disko...</td>\n",
              "      <td>2</td>\n",
              "      <td>gunakan grabcar atau grabtaxi  dapatkan diskon...</td>\n",
              "    </tr>\n",
              "    <tr>\n",
              "      <th>387</th>\n",
              "      <td>NASIB:Berbagi, berbakti Rutinkan 2 hal ini Mak...</td>\n",
              "      <td>1</td>\n",
              "      <td>nasibberbagi berbakti rutinkan  hal ini maka r...</td>\n",
              "    </tr>\n",
              "    <tr>\n",
              "      <th>448</th>\n",
              "      <td>Pnjaman mudah tnpa jaminan. proses sangat cepa...</td>\n",
              "      <td>1</td>\n",
              "      <td>pnjaman mudah tnpa jaminan proses sangat cepat...</td>\n",
              "    </tr>\n",
              "    <tr>\n",
              "      <th>43</th>\n",
              "      <td>Buruan Download &amp; Registrasi myCare di http://...</td>\n",
              "      <td>2</td>\n",
              "      <td>buruan download  registrasi mycare di  dan dap...</td>\n",
              "    </tr>\n",
              "  </tbody>\n",
              "</table>\n",
              "</div>\n",
              "      <button class=\"colab-df-convert\" onclick=\"convertToInteractive('df-9e175d6d-9459-4f2e-bc0b-03e8411e9350')\"\n",
              "              title=\"Convert this dataframe to an interactive table.\"\n",
              "              style=\"display:none;\">\n",
              "        \n",
              "  <svg xmlns=\"http://www.w3.org/2000/svg\" height=\"24px\"viewBox=\"0 0 24 24\"\n",
              "       width=\"24px\">\n",
              "    <path d=\"M0 0h24v24H0V0z\" fill=\"none\"/>\n",
              "    <path d=\"M18.56 5.44l.94 2.06.94-2.06 2.06-.94-2.06-.94-.94-2.06-.94 2.06-2.06.94zm-11 1L8.5 8.5l.94-2.06 2.06-.94-2.06-.94L8.5 2.5l-.94 2.06-2.06.94zm10 10l.94 2.06.94-2.06 2.06-.94-2.06-.94-.94-2.06-.94 2.06-2.06.94z\"/><path d=\"M17.41 7.96l-1.37-1.37c-.4-.4-.92-.59-1.43-.59-.52 0-1.04.2-1.43.59L10.3 9.45l-7.72 7.72c-.78.78-.78 2.05 0 2.83L4 21.41c.39.39.9.59 1.41.59.51 0 1.02-.2 1.41-.59l7.78-7.78 2.81-2.81c.8-.78.8-2.07 0-2.86zM5.41 20L4 18.59l7.72-7.72 1.47 1.35L5.41 20z\"/>\n",
              "  </svg>\n",
              "      </button>\n",
              "      \n",
              "  <style>\n",
              "    .colab-df-container {\n",
              "      display:flex;\n",
              "      flex-wrap:wrap;\n",
              "      gap: 12px;\n",
              "    }\n",
              "\n",
              "    .colab-df-convert {\n",
              "      background-color: #E8F0FE;\n",
              "      border: none;\n",
              "      border-radius: 50%;\n",
              "      cursor: pointer;\n",
              "      display: none;\n",
              "      fill: #1967D2;\n",
              "      height: 32px;\n",
              "      padding: 0 0 0 0;\n",
              "      width: 32px;\n",
              "    }\n",
              "\n",
              "    .colab-df-convert:hover {\n",
              "      background-color: #E2EBFA;\n",
              "      box-shadow: 0px 1px 2px rgba(60, 64, 67, 0.3), 0px 1px 3px 1px rgba(60, 64, 67, 0.15);\n",
              "      fill: #174EA6;\n",
              "    }\n",
              "\n",
              "    [theme=dark] .colab-df-convert {\n",
              "      background-color: #3B4455;\n",
              "      fill: #D2E3FC;\n",
              "    }\n",
              "\n",
              "    [theme=dark] .colab-df-convert:hover {\n",
              "      background-color: #434B5C;\n",
              "      box-shadow: 0px 1px 3px 1px rgba(0, 0, 0, 0.15);\n",
              "      filter: drop-shadow(0px 1px 2px rgba(0, 0, 0, 0.3));\n",
              "      fill: #FFFFFF;\n",
              "    }\n",
              "  </style>\n",
              "\n",
              "      <script>\n",
              "        const buttonEl =\n",
              "          document.querySelector('#df-9e175d6d-9459-4f2e-bc0b-03e8411e9350 button.colab-df-convert');\n",
              "        buttonEl.style.display =\n",
              "          google.colab.kernel.accessAllowed ? 'block' : 'none';\n",
              "\n",
              "        async function convertToInteractive(key) {\n",
              "          const element = document.querySelector('#df-9e175d6d-9459-4f2e-bc0b-03e8411e9350');\n",
              "          const dataTable =\n",
              "            await google.colab.kernel.invokeFunction('convertToInteractive',\n",
              "                                                     [key], {});\n",
              "          if (!dataTable) return;\n",
              "\n",
              "          const docLinkHtml = 'Like what you see? Visit the ' +\n",
              "            '<a target=\"_blank\" href=https://colab.research.google.com/notebooks/data_table.ipynb>data table notebook</a>'\n",
              "            + ' to learn more about interactive tables.';\n",
              "          element.innerHTML = '';\n",
              "          dataTable['output_type'] = 'display_data';\n",
              "          await google.colab.output.renderOutput(dataTable, element);\n",
              "          const docLink = document.createElement('div');\n",
              "          docLink.innerHTML = docLinkHtml;\n",
              "          element.appendChild(docLink);\n",
              "        }\n",
              "      </script>\n",
              "    </div>\n",
              "  </div>\n",
              "  "
            ]
          },
          "metadata": {},
          "execution_count": 6
        }
      ]
    },
    {
      "cell_type": "code",
      "source": [
        "data.to_csv('clean_dataset_sms_spam.csv')"
      ],
      "metadata": {
        "id": "bnKWjpLnH6vT"
      },
      "execution_count": null,
      "outputs": []
    },
    {
      "cell_type": "markdown",
      "source": [
        "# Word Embedding"
      ],
      "metadata": {
        "id": "gc5B9vg1_53a"
      }
    },
    {
      "cell_type": "markdown",
      "source": [
        "## Word2Vec"
      ],
      "metadata": {
        "id": "UoSm8it-HtHH"
      }
    },
    {
      "cell_type": "code",
      "source": [
        "#import library\n",
        "import gensim"
      ],
      "metadata": {
        "id": "UjiWP5jI_7h1"
      },
      "execution_count": null,
      "outputs": []
    },
    {
      "cell_type": "code",
      "source": [
        "# Tokenize kata pada setiap kalimat\n",
        "def tokenization(text):\n",
        "  text = re.split('\\W+', text)\n",
        "  return text\n",
        "\n",
        "sentences = data['clean_teks'].apply(lambda x: tokenization(x.lower()))\n",
        "sentences"
      ],
      "metadata": {
        "id": "DxEdc-0wHDx0",
        "colab": {
          "base_uri": "https://localhost:8080/"
        },
        "outputId": "c4ba2c4e-7a8e-425d-fe7a-70382bf80d0f"
      },
      "execution_count": null,
      "outputs": [
        {
          "output_type": "execute_result",
          "data": {
            "text/plain": [
              "0       [promo, beli, paket, flash, mulai, gb, di, my,...\n",
              "1       [gb, hari, hanya, rp, ribu, spesial, buat, and...\n",
              "2       [plg, yth, sisa, kuota, flash, anda, kb, downl...\n",
              "3       [plg, yth, sisa, kuota, flash, anda, kb, downl...\n",
              "4       [gb, hari, hanya, rp, ribu, spesial, buat, and...\n",
              "                              ...                        \n",
              "1138    [yooo, sama, oke, nanti, aku, umumin, di, grup...\n",
              "1139    [sebelumnya, ga, ad, nulis, kerudung, kirain, ...\n",
              "1140                                [mba, mau, kirim, ya]\n",
              "1141    [nama, beaok, bwrangkat, pagimau, cas, atay, t...\n",
              "1142                    [no, bri, atas, nama, kamu, mana]\n",
              "Name: clean_teks, Length: 1143, dtype: object"
            ]
          },
          "metadata": {},
          "execution_count": 9
        }
      ]
    },
    {
      "cell_type": "code",
      "source": [
        "# Defenisikan parameter training Word2Vec\n",
        "\n",
        "MIN_COUNT = 1       # Mengabaikan semua kata dengan frekuensi total lebih rendah dari ini (opsional)\n",
        "WINDOW = 5          # Window size. Jarak maksimum antara kata saat ini dan yang diprediksi dalam sebuah kalimat.\n",
        "EPOCH = 10          # Jumlah iterasi (epoch).\n",
        "SG = 1              # Algoritma pelatihan: 1 untuk skip-gram, 0 untuk CBOW.\n",
        "SIZE = 5            # Dimensi vektor"
      ],
      "metadata": {
        "id": "Degyq5_FOcX0"
      },
      "execution_count": null,
      "outputs": []
    },
    {
      "cell_type": "code",
      "source": [
        "# Proses training Word2Vec\n",
        "\n",
        "%%time \n",
        "model_word2vec = gensim.models.Word2Vec(sentences, size=SIZE, sg=SG, min_count=MIN_COUNT, window=WINDOW, iter=EPOCH)"
      ],
      "metadata": {
        "id": "_jTddWXAOrao",
        "colab": {
          "base_uri": "https://localhost:8080/"
        },
        "outputId": "6e48276e-9e54-426e-a57c-a8ab77bb7492"
      },
      "execution_count": null,
      "outputs": [
        {
          "output_type": "stream",
          "name": "stdout",
          "text": [
            "CPU times: user 1.82 s, sys: 19.1 ms, total: 1.84 s\n",
            "Wall time: 1.58 s\n"
          ]
        }
      ]
    },
    {
      "cell_type": "code",
      "source": [
        "# Save model\n",
        "path = \"word2vec.bin.gz\"\n",
        "model_word2vec.wv.save_word2vec_format(path, binary=True)"
      ],
      "metadata": {
        "id": "DnjhryDuEeOe"
      },
      "execution_count": null,
      "outputs": []
    },
    {
      "cell_type": "code",
      "source": [
        "# Cari nilai vektor dari kata 'hadiah'\n",
        "model_word2vec.wv['hadiah']"
      ],
      "metadata": {
        "id": "o-qUNS30PxcA",
        "colab": {
          "base_uri": "https://localhost:8080/"
        },
        "outputId": "9a2f1d6a-c337-4e94-c0b5-b8c82b3d1270"
      },
      "execution_count": null,
      "outputs": [
        {
          "output_type": "execute_result",
          "data": {
            "text/plain": [
              "array([-0.41845885, -0.32147726,  0.49585527, -0.0843215 , -3.4680526 ],\n",
              "      dtype=float32)"
            ]
          },
          "metadata": {},
          "execution_count": 13
        }
      ]
    },
    {
      "cell_type": "code",
      "source": [
        "# Menemukan kata kata teratas yang paling mirip.\n",
        "# Menghitung kesamaan dari vektor bobot proyeksi dari kata-kata yang diberikan dan vektor untuk setiap kata dalam model.\n",
        "\n",
        "model_word2vec.wv.most_similar('hadiah')"
      ],
      "metadata": {
        "id": "Z6bssKdsSDTU",
        "colab": {
          "base_uri": "https://localhost:8080/"
        },
        "outputId": "3fd7ac52-3a8a-46fc-a3fa-885fe7319159"
      },
      "execution_count": null,
      "outputs": [
        {
          "output_type": "execute_result",
          "data": {
            "text/plain": [
              "[('selamat', 0.9996521472930908),\n",
              " ('terpilih', 0.9985349774360657),\n",
              " ('pemenang', 0.9977458715438843),\n",
              " ('mdptkan', 0.9973387718200684),\n",
              " ('mendpt', 0.9965212345123291),\n",
              " ('mendapatkan', 0.9958164691925049),\n",
              " ('indonesia', 0.995606005191803),\n",
              " ('meraih', 0.9955542087554932),\n",
              " ('undian', 0.9949235916137695),\n",
              " ('mdpt', 0.9946598410606384)]"
            ]
          },
          "metadata": {},
          "execution_count": 14
        }
      ]
    },
    {
      "cell_type": "code",
      "source": [
        "# Karena berdimensi 5, kita membutuhkan\n",
        "# Kata-kata yang ingin kita plot vektornya\n",
        "word_list = ['hadiah', 'promosi', 'sms', 'malam', 'makan', 'telkomsel', 'selamat', 'juta', 'nama', 'duit', 'uang']\n",
        "\n",
        "# daftar vektor dari kata-kata tersebut\n",
        "word_vectors = np.array([model_word2vec.wv[w] for w in word_list])\n",
        "word_vectors"
      ],
      "metadata": {
        "id": "cvY-1pIUP7Ou",
        "colab": {
          "base_uri": "https://localhost:8080/"
        },
        "outputId": "95e0d945-6246-40c4-856f-cb917b8edc9b"
      },
      "execution_count": null,
      "outputs": [
        {
          "output_type": "execute_result",
          "data": {
            "text/plain": [
              "array([[-0.41845885, -0.32147726,  0.49585527, -0.0843215 , -3.4680526 ],\n",
              "       [ 0.34932783, -0.38690042,  0.0509068 , -0.0430352 , -0.77744627],\n",
              "       [ 1.4056178 , -0.22184414, -0.16179806,  0.02852002, -1.3623363 ],\n",
              "       [ 0.7799209 , -0.6026715 , -0.13694608, -0.03441818, -1.3277912 ],\n",
              "       [ 0.79305637, -0.69716585,  0.02810624, -0.05285832, -1.055632  ],\n",
              "       [ 0.8333081 ,  0.10236358, -0.19822127, -0.3576031 , -1.8661792 ],\n",
              "       [-0.31056312, -0.2802966 ,  0.38506147, -0.0091592 , -2.888227  ],\n",
              "       [ 0.03922816, -0.06108119, -0.34660146, -0.33582366, -2.30744   ],\n",
              "       [ 1.0009819 , -1.6090498 ,  0.3916152 ,  0.0292122 , -0.7851177 ],\n",
              "       [ 0.50289863, -0.33798695, -0.0913626 , -0.11507731, -0.6807148 ],\n",
              "       [ 0.20688015, -0.44525477, -0.17755836, -0.15634379, -1.9593883 ]],\n",
              "      dtype=float32)"
            ]
          },
          "metadata": {},
          "execution_count": 15
        }
      ]
    },
    {
      "cell_type": "code",
      "source": [
        "# Reduksi dimensi vektor ke 2D menggunakan PCA\n",
        "from sklearn.decomposition import PCA, KernelPCA\n",
        "\n",
        "dimred = PCA(n_components=2, copy=False, whiten=True)\n",
        "red_word_vectors = dimred.fit_transform(word_vectors)"
      ],
      "metadata": {
        "id": "UMu51unuQyp8"
      },
      "execution_count": null,
      "outputs": []
    },
    {
      "cell_type": "code",
      "source": [
        "red_word_vectors"
      ],
      "metadata": {
        "id": "mtdyBiGqQ3Bl",
        "colab": {
          "base_uri": "https://localhost:8080/"
        },
        "outputId": "ea61c76b-d410-4dfe-cc33-cfbf5bdf3d2e"
      },
      "execution_count": null,
      "outputs": [
        {
          "output_type": "execute_result",
          "data": {
            "text/plain": [
              "array([[ 1.9233403 ,  0.8686605 ],\n",
              "       [-0.68166715, -0.01797632],\n",
              "       [-0.6424437 , -1.0465757 ],\n",
              "       [-0.4714366 , -0.04809304],\n",
              "       [-0.70667756,  0.2673139 ],\n",
              "       [ 0.09635116, -1.4639571 ],\n",
              "       [ 1.3942248 ,  0.6213787 ],\n",
              "       [ 0.75926167, -0.88542175],\n",
              "       [-1.1741571 ,  2.1494482 ],\n",
              "       [-0.8272081 , -0.37025192],\n",
              "       [ 0.3304118 , -0.07452486]], dtype=float32)"
            ]
          },
          "metadata": {},
          "execution_count": 17
        }
      ]
    },
    {
      "cell_type": "code",
      "source": [
        "# Implementasi visualisasi dapat di cek pada laman berikut: https://ir.cs.ui.ac.id/alfan/tutorial/gensim_w2v.html\n",
        "\n",
        "def plot(datas, labels, fc='yellow'):\n",
        "  # plot the dots\n",
        "  plt.subplots_adjust(bottom = 0.1)\n",
        "  plt.scatter(datas[:, 0], datas[:, 1], marker='o')\n",
        "\n",
        "  # annotate labels\n",
        "  for label, x, y in zip(labels, datas[:, 0], datas[:, 1]):\n",
        "    plt.annotate(label, \\\n",
        "                 xy=(x, y), xytext=(-15, 15), \\\n",
        "                 textcoords='offset points', ha='right', va='bottom', \\\n",
        "                 bbox=dict(boxstyle='round,pad=0.3', fc=fc, alpha=0.5), \\\n",
        "                 arrowprops=dict(arrowstyle = '->', connectionstyle='arc3,rad=0'))\n",
        "  plt.show()"
      ],
      "metadata": {
        "id": "Uj-WAyYEQLm5"
      },
      "execution_count": null,
      "outputs": []
    },
    {
      "cell_type": "code",
      "source": [
        "plot(red_word_vectors, word_list)"
      ],
      "metadata": {
        "id": "1qPQJ9bxvZxM",
        "colab": {
          "base_uri": "https://localhost:8080/",
          "height": 286
        },
        "outputId": "b94ff246-939a-4df6-a1bd-9d5d28893425"
      },
      "execution_count": null,
      "outputs": [
        {
          "output_type": "display_data",
          "data": {
            "text/plain": [
              "<Figure size 432x288 with 1 Axes>"
            ],
            "image/png": "[encoded data removed]"
          },
          "metadata": {
            "needs_background": "light"
          }
        }
      ]
    },
    {
      "cell_type": "markdown",
      "source": [
        "## FastText"
      ],
      "metadata": {
        "id": "J1V85T-lDn2c"
      }
    },
    {
      "cell_type": "code",
      "source": [
        "!pip -q install fasttext"
      ],
      "metadata": {
        "id": "XnYVAqvADqIj",
        "colab": {
          "base_uri": "https://localhost:8080/"
        },
        "outputId": "2aec1217-4b86-44fb-ab24-8e68661b08a2"
      },
      "execution_count": null,
      "outputs": [
        {
          "output_type": "stream",
          "name": "stdout",
          "text": [
            "\u001b[?25l\r\u001b[K     |████▊                           | 10 kB 16.2 MB/s eta 0:00:01\r\u001b[K     |█████████▌                      | 20 kB 21.3 MB/s eta 0:00:01\r\u001b[K     |██████████████▎                 | 30 kB 25.3 MB/s eta 0:00:01\r\u001b[K     |███████████████████             | 40 kB 20.2 MB/s eta 0:00:01\r\u001b[K     |███████████████████████▉        | 51 kB 8.2 MB/s eta 0:00:01\r\u001b[K     |████████████████████████████▋   | 61 kB 9.5 MB/s eta 0:00:01\r\u001b[K     |████████████████████████████████| 68 kB 4.1 MB/s \n"
          ]
        }
      ]
    },
    {
      "cell_type": "code",
      "source": [
        "# Download dan unzip dataset\n",
        "# Warning: proses download lama dan memakan diskspace yang besar\n",
        "!wget https://dl.fbaipublicfiles.com/fasttext/vectors-crawl/cc.en.300.bin.gz\n",
        "!gunzip cc.en.300.bin.gz"
      ],
      "metadata": {
        "id": "rIyyFGb5D_V1"
      },
      "execution_count": null,
      "outputs": []
    },
    {
      "cell_type": "code",
      "source": [
        "import fasttext\n",
        "ft_model = fasttext.load_model(\"cc.en.300.bin\")"
      ],
      "metadata": {
        "id": "Hgc0bc53D_fj"
      },
      "execution_count": null,
      "outputs": []
    },
    {
      "cell_type": "code",
      "source": [
        "print(ft_model['hadiah'])"
      ],
      "metadata": {
        "id": "yHY8V0RUD_ln"
      },
      "execution_count": null,
      "outputs": []
    },
    {
      "cell_type": "code",
      "source": [
        "list_kalimat = ['saya lapar saya tidak makan','saya tidak lapar saya makan'] \n",
        "word_vectors_fasttext = np.array([ft_model[w] for w in list_kalimat])\n",
        "pca = PCA(n_components=2, copy=False, whiten=True)\n",
        "\n",
        "fasttext_word_vectors = pca.fit_transform(word_vectors_fasttext)\n",
        "\n",
        "plot(word_vectors_fasttext, list_kalimat)"
      ],
      "metadata": {
        "id": "g0Bh_RmrD_o1"
      },
      "execution_count": null,
      "outputs": []
    },
    {
      "cell_type": "markdown",
      "source": [
        "# Deep Learning for NLP"
      ],
      "metadata": {
        "id": "-8GH62S6H0I4"
      }
    },
    {
      "cell_type": "markdown",
      "source": [
        "## LSTM"
      ],
      "metadata": {
        "id": "QUtM1f_3VpKO"
      }
    },
    {
      "cell_type": "markdown",
      "source": [
        "### Data Splitting"
      ],
      "metadata": {
        "id": "Zasq9YsSHAP6"
      }
    },
    {
      "cell_type": "code",
      "source": [
        "# Tentukan kolom yang akan digunkan\n",
        "data = data[['clean_teks', 'label']]\n",
        "data"
      ],
      "metadata": {
        "id": "Od-2v5Hazlkt"
      },
      "execution_count": null,
      "outputs": []
    },
    {
      "cell_type": "code",
      "source": [
        "# Buat data uji, data latih, dan data validasi\n",
        "from sklearn.model_selection import train_test_split\n",
        "\n",
        "data_train, data_test = train_test_split(data, test_size=0.2, random_state=5)\n",
        "data_train, data_val = train_test_split(data_train, test_size=0.25, random_state=5)"
      ],
      "metadata": {
        "id": "R1M3Ndkq0-SS"
      },
      "execution_count": null,
      "outputs": []
    },
    {
      "cell_type": "code",
      "source": [
        "# Lihat shape dari masing-masing data\n",
        "print(data_train.shape)\n",
        "print(data_val.shape)\n",
        "print(data_test.shape)"
      ],
      "metadata": {
        "id": "3x1h9SgU1LqT"
      },
      "execution_count": null,
      "outputs": []
    },
    {
      "cell_type": "code",
      "source": [
        "# Pisahkan kolom fitur dan target (label)\n",
        "trainX = np.array(data_train.iloc[:, 0])\n",
        "trainY = np.array(data_train.iloc[:, 1])\n",
        "\n",
        "testX = np.array(data_test.iloc[:, 0])\n",
        "testY = np.array(data_test.iloc[:, 1])\n",
        "\n",
        "valX = np.array(data_val.iloc[:, 0])\n",
        "valY = np.array(data_val.iloc[:, 1])"
      ],
      "metadata": {
        "id": "1CYYY05n1RDJ"
      },
      "execution_count": null,
      "outputs": []
    },
    {
      "cell_type": "code",
      "source": [
        "# One-hot encoding\n",
        "\n",
        "trainY = pd.get_dummies(trainY).values\n",
        "testY = pd.get_dummies(testY).values\n",
        "valY = pd.get_dummies(valY).values"
      ],
      "metadata": {
        "id": "7ynl_HrX_6qq"
      },
      "execution_count": null,
      "outputs": []
    },
    {
      "cell_type": "code",
      "source": [
        "print(trainY.shape)\n",
        "print(testY.shape)\n",
        "print(valY.shape)"
      ],
      "metadata": {
        "id": "AniINOoFALuF"
      },
      "execution_count": null,
      "outputs": []
    },
    {
      "cell_type": "code",
      "source": [
        "trainY"
      ],
      "metadata": {
        "id": "WzyY5ZVBAcON"
      },
      "execution_count": null,
      "outputs": []
    },
    {
      "cell_type": "markdown",
      "source": [
        "### Tokenizing Data"
      ],
      "metadata": {
        "id": "usvl5kBgxEvK"
      }
    },
    {
      "cell_type": "code",
      "source": [
        "'''\n",
        "Proses vektorisasi teks dengan mengubah setiap teks menjadi token urutan bilangan int (setiap bilangan int menjadi indeks token dalam dictionary) \n",
        "'''\n",
        "from keras.preprocessing.text import Tokenizer"
      ],
      "metadata": {
        "id": "ZLBBX-0vUYG2"
      },
      "execution_count": null,
      "outputs": []
    },
    {
      "cell_type": "code",
      "source": [
        "NUM_WORDS = 100       # Frekuensi kemunculan kata. Hanya num_words-1 yang akan disimpan pada dictionary. Berarti kata dengan kemunculan >=100 tidak digunakan.\n",
        "OOV_TOKEN = '<unk>'   # Token khusus untuk mengganti kata yang tidak terdaftar dalam dictionary.\n",
        "\n",
        "tokenizer = Tokenizer(num_words=100, oov_token=OOV_TOKEN, lower=True)   \n",
        "tokenizer.fit_on_texts(trainX)\n",
        "\n",
        "# Tambahkan token padding untuk menyamakan ukuran dimensi fitur input ke LSTM\n",
        "tokenizer.word_index['<pad>'] = 0\n",
        "tokenizer.index_word[0] = '<pad>'\n",
        "\n",
        "word_index = tokenizer.word_index"
      ],
      "metadata": {
        "id": "ykzsLeWH1pfs"
      },
      "execution_count": null,
      "outputs": []
    },
    {
      "cell_type": "code",
      "source": [
        "# Lihat dictionary yang telah dibuat proses tokenisasi\n",
        "print(word_index)"
      ],
      "metadata": {
        "id": "Xh30I3Dz35Zx"
      },
      "execution_count": null,
      "outputs": []
    },
    {
      "cell_type": "code",
      "source": [
        "len(word_index)"
      ],
      "metadata": {
        "id": "DEWzlO605JPi"
      },
      "execution_count": null,
      "outputs": []
    },
    {
      "cell_type": "markdown",
      "source": [
        "### Text to Sequences"
      ],
      "metadata": {
        "id": "5cXP49b13LKF"
      }
    },
    {
      "cell_type": "code",
      "source": [
        "'''\n",
        "Proses mengubah token teks menjadi urutan bilangan int.\n",
        "'''\n",
        "train_seqs = tokenizer.texts_to_sequences(trainX)\n",
        "val_seqs = tokenizer.texts_to_sequences(valX)\n",
        "test_seqs = tokenizer.texts_to_sequences(testX)"
      ],
      "metadata": {
        "id": "sXaf2n-63OoD"
      },
      "execution_count": null,
      "outputs": []
    },
    {
      "cell_type": "code",
      "source": [
        "# Lihat hasil dari text to sequences\n",
        "# Setiap bilang int merujuk pada indeks token yang ada dalam dictionary\n",
        "print(train_seqs)"
      ],
      "metadata": {
        "id": "AbGqHzwq30p1"
      },
      "execution_count": null,
      "outputs": []
    },
    {
      "cell_type": "code",
      "source": [
        "print(trainX[10])\n",
        "print(train_seqs[10])"
      ],
      "metadata": {
        "id": "OT5Nkq5J46td"
      },
      "execution_count": null,
      "outputs": []
    },
    {
      "cell_type": "markdown",
      "source": [
        "### Padding & Truncate"
      ],
      "metadata": {
        "id": "f8oipM5M6c5Q"
      }
    },
    {
      "cell_type": "code",
      "source": [
        "'''\n",
        "Proses mengubah data dari sequence menjadi array bentuk 2D Numpy (num_samples, num_timesteps). \n",
        "num_timesteps adalah argumen maxlen jika disediakan, atau panjang dari sequence terpanjang dalam daftar.\n",
        "\n",
        "Sequence yang lebih pendek dari num_timesteps diisi dengan nilai hingga panjangnya sama dengan num_timesteps (padding).\n",
        "Sequence yang lebih panjang dari num_timesteps dipotong sehingga sesuai dengan panjang yang diinginkan (truncate).\n",
        "'''\n",
        "\n",
        "from keras.preprocessing.sequence import pad_sequences"
      ],
      "metadata": {
        "id": "ZdJxN0VG2Xyv"
      },
      "execution_count": null,
      "outputs": []
    },
    {
      "cell_type": "code",
      "source": [
        "# Lihat distribusi jumlah kata dalam X_train_seq.\n",
        "# Pada contoh ini, max_len tidak ditentukan, sehingga semua data dari sequence akan di padding menjad panjang sesuai dengan sequnce terpanjang\n",
        "l = [len(i) for i in train_seqs]\n",
        "l = np.array(l)\n",
        "\n",
        "print('minimum number of words: {}'.format(l.min()))\n",
        "print('median number of words: {}'.format(np.median(l)))\n",
        "print('average number of words: {}'.format(l.mean()))\n",
        "print('maximum number of words: {}'.format(l.max()))"
      ],
      "metadata": {
        "id": "MhUJvzgv2YEH"
      },
      "execution_count": null,
      "outputs": []
    },
    {
      "cell_type": "code",
      "source": [
        "PADDING = 'pre' # Terdapat dua pilihan dalam melakukan padding 'pre' or 'post'.\n",
        "\n",
        "train_seqs = pad_sequences(train_seqs, padding=PADDING)\n",
        "val_seqs = pad_sequences(val_seqs, padding=PADDING)\n",
        "test_seqs = pad_sequences(test_seqs, padding=PADDING)"
      ],
      "metadata": {
        "id": "QeVcAPyZ6shy"
      },
      "execution_count": null,
      "outputs": []
    },
    {
      "cell_type": "code",
      "source": [
        "print(trainX[10])\n",
        "print(train_seqs[10])"
      ],
      "metadata": {
        "id": "_SVld-Gt62zA"
      },
      "execution_count": null,
      "outputs": []
    },
    {
      "cell_type": "markdown",
      "source": [
        "### Define Model"
      ],
      "metadata": {
        "id": "LxMM1GjV8yWT"
      }
    },
    {
      "cell_type": "code",
      "source": [
        "from keras.models import Sequential\n",
        "from keras.layers import Embedding, LSTM, Dense, Flatten\n",
        "\n",
        "model_LSTM = Sequential()\n",
        "model_LSTM.add(Embedding(len(word_index), 200))\n",
        "model_LSTM.add(LSTM(100))\n",
        "model_LSTM.add(Dense(3, activation='softmax'))"
      ],
      "metadata": {
        "id": "qn_Yux7n9AM1"
      },
      "execution_count": null,
      "outputs": []
    },
    {
      "cell_type": "code",
      "source": [
        "model_LSTM.compile(loss='categorical_crossentropy', optimizer='adam', metrics=['accuracy'])"
      ],
      "metadata": {
        "id": "9S1bbx97-Prn"
      },
      "execution_count": null,
      "outputs": []
    },
    {
      "cell_type": "markdown",
      "source": [
        "### Training"
      ],
      "metadata": {
        "id": "7ZtRrSwRBOCh"
      }
    },
    {
      "cell_type": "code",
      "source": [
        "%%time\n",
        "\n",
        "EPOCH = 10\n",
        "BATCH_SIZE = 64\n",
        "\n",
        "history_LSTM = model_LSTM.fit(train_seqs, trainY, epochs=EPOCH, batch_size=BATCH_SIZE, validation_data=(val_seqs, valY))"
      ],
      "metadata": {
        "id": "0yx_o6c2-P16"
      },
      "execution_count": null,
      "outputs": []
    },
    {
      "cell_type": "code",
      "source": [
        "def plot_graphs(history, string):\n",
        "  plt.plot(history.history[string])\n",
        "  plt.plot(history.history['val_'+string])\n",
        "  plt.xlabel(\"Epochs\")\n",
        "  plt.ylabel(string)\n",
        "  plt.legend([string, 'val_'+string])\n",
        "  plt.show()"
      ],
      "metadata": {
        "id": "Px0sMOl3-tOb"
      },
      "execution_count": null,
      "outputs": []
    },
    {
      "cell_type": "code",
      "source": [
        "plot_graphs(history_LSTM, 'accuracy')\n",
        "plot_graphs(history_LSTM, 'loss')"
      ],
      "metadata": {
        "id": "lYaz_kniYk_i"
      },
      "execution_count": null,
      "outputs": []
    },
    {
      "cell_type": "code",
      "source": [
        "print('\\nEpoch No.  Train Accuracy  Train Loss      Val Accuracy    Val Loss')\n",
        "for i in range(EPOCH):\n",
        "  print('{:8d} {:10f} \\t {:10f} \\t {:10f} \\t {:10f}'.format(i + 1, history_LSTM.history['accuracy'][i], history_LSTM.history['loss'][i], history_LSTM.history['val_accuracy'][i], history_LSTM.history['val_loss'][i]))"
      ],
      "metadata": {
        "id": "4AFzELe8A_ZD"
      },
      "execution_count": null,
      "outputs": []
    },
    {
      "cell_type": "markdown",
      "source": [
        "### Evaluate"
      ],
      "metadata": {
        "id": "xSQoo9NXBhle"
      }
    },
    {
      "cell_type": "code",
      "source": [
        "# Lakukan prediksi pada data uji\n",
        "y_pred = np.argmax(model_LSTM.predict(test_seqs), axis=1)\n",
        "y_true = np.argmax(testY, axis=1)\n",
        "\n",
        "loss, accuracy = model_LSTM.evaluate(test_seqs, testY)"
      ],
      "metadata": {
        "id": "2Rj-vUnVCFRR"
      },
      "execution_count": null,
      "outputs": []
    },
    {
      "cell_type": "code",
      "source": [
        "from sklearn.metrics import classification_report\n",
        "\n",
        "print(classification_report(y_pred, y_true))"
      ],
      "metadata": {
        "id": "vH7Cqp4hCYWT"
      },
      "execution_count": null,
      "outputs": []
    },
    {
      "cell_type": "markdown",
      "source": [
        "## LSTM + Word Embedding"
      ],
      "metadata": {
        "id": "xohnk8BEDic-"
      }
    },
    {
      "cell_type": "code",
      "source": [
        "# Load word2vec\n",
        "from gensim.models import KeyedVectors\n",
        "\n",
        "reloaded_word_vectors = KeyedVectors.load_word2vec_format(path, binary=True)"
      ],
      "metadata": {
        "id": "ag7IYEtZCsSH"
      },
      "execution_count": null,
      "outputs": []
    },
    {
      "cell_type": "code",
      "source": [
        "print(reloaded_word_vectors.vocab)"
      ],
      "metadata": {
        "id": "EbMj88xHWcE5"
      },
      "execution_count": null,
      "outputs": []
    },
    {
      "cell_type": "markdown",
      "source": [
        "### Token to Embedding"
      ],
      "metadata": {
        "id": "mxpqJdmpHNcH"
      }
    },
    {
      "cell_type": "code",
      "source": [
        "# Buat fungsi untuk mengubah kata pada kalimat sesuai dengan word2vec, gunakan token kalimat sebagai input 'sentences'\n",
        "def embed(token_kalimat):\n",
        "  embedding = []\n",
        "  for sentences in token_kalimat:\n",
        "    sentencevec = []\n",
        "    for w in sentences:\n",
        "      if w in reloaded_word_vectors.vocab:\n",
        "        sentencevec.append(reloaded_word_vectors[w])\n",
        "      else :\n",
        "        sentencevec.append(np.zeros((5)))\n",
        "    embedding.append(sentencevec)\n",
        "  return embedding"
      ],
      "metadata": {
        "id": "CNjILY41E1J5"
      },
      "execution_count": null,
      "outputs": []
    },
    {
      "cell_type": "markdown",
      "source": [
        "### Padding"
      ],
      "metadata": {
        "id": "VhST6y7oHRPH"
      }
    },
    {
      "cell_type": "code",
      "source": [
        "# Buat fungsi untuk melakukan padding\n",
        "\n",
        "max_length = 100\n",
        "\n",
        "def padding(vec):\n",
        "  padded = []\n",
        "  for i, v in enumerate(vec) :\n",
        "    vector = []\n",
        "    if len(v) < max_length :\n",
        "      pad_count = max_length - len(v)\n",
        "      pad = np.zeros((pad_count, 5))\n",
        "      vector = np.append(v, pad, axis=0)\n",
        "    else :\n",
        "      vector = v[:max_length]\n",
        "    padded.append(vector)\n",
        "  return padded"
      ],
      "metadata": {
        "id": "WgdXVlj1Fqpj"
      },
      "execution_count": null,
      "outputs": []
    },
    {
      "cell_type": "code",
      "source": [
        "trainX_we = embed(trainX)\n",
        "testX_we = embed(testX)\n",
        "valX_we = embed(valX)\n",
        "\n",
        "trainX_we = np.array(padding(trainX_we))\n",
        "testX_we = np.array(padding(testX_we))\n",
        "valX_we = np.array(padding(valX_we))"
      ],
      "metadata": {
        "id": "n6QXGLZWF3C_"
      },
      "execution_count": null,
      "outputs": []
    },
    {
      "cell_type": "code",
      "source": [
        "print(trainX_we.shape)\n",
        "print(testX_we.shape)\n",
        "print(valX_we.shape)"
      ],
      "metadata": {
        "id": "GPkzvT3nGNwy"
      },
      "execution_count": null,
      "outputs": []
    },
    {
      "cell_type": "markdown",
      "source": [
        "### Define Model"
      ],
      "metadata": {
        "id": "lKDc4woAHrpf"
      }
    },
    {
      "cell_type": "code",
      "source": [
        "model_LSTM_we = Sequential()\n",
        "model_LSTM_we.add(LSTM(100, return_sequences=True, input_shape=(100,5)))\n",
        "model_LSTM_we.add(Dense(3, activation='softmax'))"
      ],
      "metadata": {
        "id": "36uZOD2gGcXv"
      },
      "execution_count": null,
      "outputs": []
    },
    {
      "cell_type": "code",
      "source": [
        "model_LSTM_we.compile(loss='categorical_crossentropy', optimizer='adam', metrics=['accuracy'])\n"
      ],
      "metadata": {
        "id": "uDlTWYxDH6f2"
      },
      "execution_count": null,
      "outputs": []
    },
    {
      "cell_type": "code",
      "source": [
        "%%time\n",
        "\n",
        "EPOCH = 10\n",
        "BATCH_SIZE = 64\n",
        "\n",
        "history_LSTM = model_LSTM.fit(train_seqs, trainY, epochs=EPOCH, batch_size=BATCH_SIZE, validation_data=(val_seqs, valY))"
      ],
      "metadata": {
        "id": "A_errTyjIb7a"
      },
      "execution_count": null,
      "outputs": []
    },
    {
      "cell_type": "code",
      "source": [
        "def plot_graphs(history, string):\n",
        "  plt.plot(history.history[string])\n",
        "  plt.plot(history.history['val_'+string])\n",
        "  plt.xlabel(\"Epochs\")\n",
        "  plt.ylabel(string)\n",
        "  plt.legend([string, 'val_'+string])\n",
        "  plt.show()"
      ],
      "metadata": {
        "id": "EwpYSE6rImFe"
      },
      "execution_count": null,
      "outputs": []
    },
    {
      "cell_type": "code",
      "source": [
        "plot_graphs(history_LSTM, 'accuracy')\n",
        "plot_graphs(history_LSTM, 'loss')"
      ],
      "metadata": {
        "id": "GSL5U671Ioyr"
      },
      "execution_count": null,
      "outputs": []
    },
    {
      "cell_type": "code",
      "source": [
        "print('\\nEpoch No.  Train Accuracy  Train Loss      Val Accuracy    Val Loss')\n",
        "for i in range(EPOCH):\n",
        "  print('{:8d} {:10f} \\t {:10f} \\t {:10f} \\t {:10f}'.format(i + 1, history_LSTM.history['accuracy'][i], history_LSTM.history['loss'][i], history_LSTM.history['val_accuracy'][i], history_LSTM.history['val_loss'][i]))"
      ],
      "metadata": {
        "id": "r3pnvM4YIrXR"
      },
      "execution_count": null,
      "outputs": []
    },
    {
      "cell_type": "code",
      "source": [
        "# Lakukan prediksi pada data uji\n",
        "y_pred = np.argmax(model_LSTM.predict(test_seqs), axis=1)\n",
        "y_true = np.argmax(testY, axis=1)\n",
        "\n",
        "loss, accuracy = model_LSTM.evaluate(test_seqs, testY)"
      ],
      "metadata": {
        "id": "Rj18tzb2Iwmc"
      },
      "execution_count": null,
      "outputs": []
    },
    {
      "cell_type": "code",
      "source": [
        "from sklearn.metrics import classification_report\n",
        "\n",
        "print(classification_report(y_pred, y_true))"
      ],
      "metadata": {
        "id": "FAkORacRIz29"
      },
      "execution_count": null,
      "outputs": []
    },
    {
      "cell_type": "code",
      "source": [
        ""
      ],
      "metadata": {
        "id": "edTscoeQcRuB"
      },
      "execution_count": null,
      "outputs": []
    }
  ]
}